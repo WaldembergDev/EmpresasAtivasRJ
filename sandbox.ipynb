{
 "cells": [
  {
   "cell_type": "code",
   "execution_count": null,
   "metadata": {},
   "outputs": [],
   "source": [
    "from pathlib import Path\n",
    "import pandas as pd\n",
    "\n",
    "def criar_df_estabelecimento(caminho_arquivo: Path):\n",
    "    # carregando o dataframe estabelecimento\n",
    "    # definindo as colunas que serão carregadas\n",
    "    colunas_selecionadas = [0, 1, 2, 3, 4, 5, 10, 11, 12, 13, 14, 15, 16, 17, 18, 19, 20, 21, 22, 27]\n",
    "    # definindo o nome das colunas\n",
    "    colunas_estabelecimentos = ['CNPJ BÁSICO',\n",
    "                                'CNPJ ORDEM',\n",
    "                                'CNPJ DV',\n",
    "                                'ID MATRIZ/FILIAL',\n",
    "                                'NOME FANTASIA',\n",
    "                                'SITUAÇÃO CADASTRAL',\n",
    "                                'DATA INÍCIO ATIVIDADE',\n",
    "                                'CNAE PRINCIPAL',\n",
    "                                'CNAE SECUNDÁRIA',\n",
    "                                'TIPO DE LOGRADOURO',\n",
    "                                'LOGRADOURO',\n",
    "                                'NÚMERO',\n",
    "                                'COMPLEMENTO',\n",
    "                                'BAIRRO',\n",
    "                                'CEP',\n",
    "                                'UF',\n",
    "                                'COD_MUNICÍPIO',\n",
    "                                'DDD 1',\n",
    "                                'TELEFONE 1',\n",
    "                                'CORREIO ELETRÔNICO']\n",
    "    df_estabelecimento = pd.read_csv(\n",
    "        caminho_arquivo,\n",
    "        sep=';',\n",
    "        encoding='latin-1',\n",
    "        usecols=colunas_selecionadas,\n",
    "        names=colunas_estabelecimentos,\n",
    "        parse_dates=['DATA INÍCIO ATIVIDADE'],\n",
    "        dtype={'CEP': 'string', 'DDD 1': 'string', 'TELEFONE 1': 'string', 'CNPJ ORDEM': 'string', 'CNPJ DV': 'string', 'CNPJ BÁSICO': 'string'},\n",
    "        nrows=10000\n",
    "        )\n",
    "    # selecionando as empresas ativas\n",
    "    df_empresas_ativos = df_estabelecimento[df_estabelecimento['SITUAÇÃO CADASTRAL'] == 2]\n",
    "\n",
    "    # selecionando apenas as empresas do RJ\n",
    "    df_empresas_ativos_rj = df_empresas_ativos[df_empresas_ativos['UF'] == 'RJ'].copy()\n",
    "\n",
    "    # excluindo as colunas UF e SITUAÇÃO CADASTRAL\n",
    "    df_empresas_ativos_rj.drop(columns=['SITUAÇÃO CADASTRAL', 'UF'], inplace=True)\n",
    "    \n",
    "    return df_empresas_ativos_rj\n",
    "    "
   ]
  },
  {
   "cell_type": "code",
   "execution_count": null,
   "metadata": {},
   "outputs": [],
   "source": [
    "def criar_df_municipio(caminho_arquivo: Path):\n",
    "    # criando um dataframe contendo os códigos e seus respectivos nomes\n",
    "    dataframe_municipios = pd.read_csv(caminho_arquivo, sep=';', encoding='latin-1', names=['COD_MUNICÍPIO', 'MUNICÍPIO'])\n",
    "    return dataframe_municipios"
   ]
  },
  {
   "cell_type": "code",
   "execution_count": null,
   "metadata": {},
   "outputs": [],
   "source": [
    "def criar_df_empresa(caminho_arquivo: Path):\n",
    "    # carregando o dataframe empresas0\n",
    "    # definindo o nome das colunas\n",
    "    colunas_empresas =  ['CNPJ BÁSICO', 'RAZÃO SOCIAL','CAPITAL SOCIAL', 'PORTE']\n",
    "    df_empresas = pd.read_csv(\n",
    "        caminho_arquivo, sep=';', encoding='latin-1', usecols=[0, 1, 4, 5], names=colunas_empresas, dtype={'CNPJ BÁSICO': 'string', 'PORTE': 'Int64'}\n",
    "        )\n",
    "    return df_empresas"
   ]
  },
  {
   "cell_type": "code",
   "execution_count": null,
   "metadata": {},
   "outputs": [],
   "source": [
    "from pathlib import Path\n",
    "\n",
    "caminho = Path(r'Baixados\\Selecionados')\n",
    "\n",
    "# percorrendo pela pasta e salvando todos os dataframes em uma lista\n",
    "lista_dataframe_estabelecimento = []\n",
    "for pasta in caminho.iterdir():\n",
    "    if 'Estabelecimentos' in pasta.name:\n",
    "        # obter o nome do arquivo dentro da pasta\n",
    "        for arquivo in pasta.iterdir():\n",
    "            if arquivo:\n",
    "                # aplicar a função\n",
    "                dataframe = criar_df_estabelecimento(arquivo)\n",
    "                lista_dataframe_estabelecimento.append(dataframe)\n",
    "\n",
    "# Concatendo todos os dataframes encontrados\n",
    "dataframe_final = pd.concat(lista_dataframe_estabelecimento, ignore_index=True)"
   ]
  },
  {
   "cell_type": "code",
   "execution_count": null,
   "metadata": {},
   "outputs": [],
   "source": [
    "# dataframe_merge = pd.merge(dataframe_final, dataframe_municipios, on='COD_MUNICÍPIO', how='left')\n",
    "# dataframe_merge.drop(columns=['COD_MUNICÍPIO'], inplace=True)\n",
    "# ordem_colunas = [               'CNPJ BÁSICO',\n",
    "#                                 'CNPJ ORDEM',\n",
    "#                                 'CNPJ DV',\n",
    "#                                 'ID MATRIZ/FILIAL',\n",
    "#                                 'NOME FANTASIA',\n",
    "#                                 'DATA INÍCIO ATIVIDADE',\n",
    "#                                 'CNAE PRINCIPAL',\n",
    "#                                 'CNAE SECUNDÁRIA',\n",
    "#                                 'TIPO DE LOGRADOURO',\n",
    "#                                 'LOGRADOURO',\n",
    "#                                 'NÚMERO',\n",
    "#                                 'COMPLEMENTO',\n",
    "#                                 'BAIRRO',\n",
    "#                                 'CEP',\n",
    "#                                 'MUNICÍPIO',\n",
    "#                                 'DDD 1',\n",
    "#                                 'TELEFONE 1',\n",
    "#                                 'CORREIO ELETRÔNICO']\n",
    "# dataframe_merge = dataframe_merge.reindex(ordem_colunas, axis=1)"
   ]
  },
  {
   "cell_type": "code",
   "execution_count": null,
   "metadata": {},
   "outputs": [],
   "source": [
    "import pandas as pd\n",
    "\n",
    "# carregando o dataframe empresas0\n",
    "# definindo o nome das colunas\n",
    "colunas_empresas =  ['CNPJ BÁSICO', 'RAZÃO SOCIAL','CAPITAL SOCIAL', 'PORTE']\n",
    "df_empresas0 = pd.read_csv(\n",
    "    r'Baixados\\Selecionados\\Empresas0\\K3241.K03200Y0.D50307.EMPRECSV', sep=';', encoding='latin-1', usecols=[0, 1, 4, 5], names=colunas_empresas, dtype={'CNPJ BÁSICO': 'string', 'PORTE': 'Int64'}\n",
    "    )"
   ]
  }
 ],
 "metadata": {
  "kernelspec": {
   "display_name": ".venv",
   "language": "python",
   "name": "python3"
  },
  "language_info": {
   "codemirror_mode": {
    "name": "ipython",
    "version": 3
   },
   "file_extension": ".py",
   "mimetype": "text/x-python",
   "name": "python",
   "nbconvert_exporter": "python",
   "pygments_lexer": "ipython3",
   "version": "3.12.3"
  }
 },
 "nbformat": 4,
 "nbformat_minor": 2
}
